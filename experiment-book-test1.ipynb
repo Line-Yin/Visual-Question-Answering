{
 "cells": [
  {
   "cell_type": "code",
   "execution_count": 3,
   "metadata": {},
   "outputs": [],
   "source": [
    "import torch\n",
    "import torch.nn as nn\n",
    "import torchvision.models as models\n",
    "import json\n",
    "import h5py\n",
    "from utils import img_data_2_mini_batch, imgs2batch\n",
    "import numpy as np\n",
    "import matplotlib.pyplot as plt\n",
    "import torch.utils.data as Data\n",
    "from torchvision import transforms\n",
    "from PIL import Image\n",
    "import torch.nn.functional as F\n",
    "import os\n",
    "\n",
    "\n",
    "%matplotlib inline\n",
    "%reload_ext autoreload"
   ]
  },
  {
   "cell_type": "code",
   "execution_count": 4,
   "metadata": {},
   "outputs": [],
   "source": [
    "base_f = 'cocoqa_data_prepro_'\n",
    "base_n = '46'\n",
    "base_fn = base_f + base_n\n",
    "\n",
    "\n",
    "\n",
    "\n",
    "transform = transforms.Compose([\n",
    "    transforms.RandomCrop(224),\n",
    "    transforms.RandomHorizontalFlip(),\n",
    "    transforms.ToTensor(),\n",
    "    transforms.Normalize((0.485, 0.456, 0.406),\n",
    "                         (0.229, 0.224, 0.225))])\n"
   ]
  },
  {
   "cell_type": "code",
   "execution_count": 5,
   "metadata": {},
   "outputs": [],
   "source": [
    "val_data_h5 = h5py.File(base_fn+'.h5', 'r')"
   ]
  },
  {
   "cell_type": "code",
   "execution_count": 6,
   "metadata": {},
   "outputs": [],
   "source": [
    "\n",
    "val_data_json = json.load(open(base_fn+'.json', 'r'))\n",
    "# pad fix\n",
    "itow = val_data_json['ix_to_word']\n",
    "\n",
    "wtoi = {iv: ik for ik,iv in itow.items()}\n",
    "old_pad = wtoi['<pad>']\n",
    "wtoi['<pad_fix>'] = old_pad\n",
    "wtoi['<pad>'] = '0'\n",
    "itow[old_pad] = '<pad_fix>'\n",
    "itow['0'] = '<pad>'\n",
    "\n",
    "# print wtoi['<pad>']\n",
    "# print itow['0']\n",
    "# print wtoi['<pad_fix>']\n",
    "\n",
    "assert(wtoi['<pad>'] == '0')\n",
    "assert(itow['0'] == '<pad>')\n",
    "\n",
    "\n",
    "# print val_data_json.keys()\n",
    "# print val_data_h5.keys()"
   ]
  },
  {
   "cell_type": "code",
   "execution_count": 7,
   "metadata": {},
   "outputs": [],
   "source": [
    "itoa = val_data_json['ix_to_ans']\n",
    "# print len(itoa)\n",
    "# print itoa['38']\n",
    "# print itoa\n",
    "unique_img_val = val_data_json['unique_img_val']\n",
    "ques_val = val_data_h5['ques_val'][:]\n",
    "ans_val = val_data_h5['ans_val'][:]\n",
    "question_id_val = val_data_h5['question_id_val'][:]\n",
    "img_pos_val = val_data_h5['img_pos_val'][:]\n",
    "images = np.array(imgs2batch(unique_img_val, img_pos_val, transform=transform))\n",
    "ques_val = np.array(ques_val)\n",
    "ans_val = np.array(ans_val).reshape((-1, 1))\n",
    "\n",
    "# print images.shape\n",
    "\n",
    "images = torch.from_numpy(images)\n",
    "ques_val = torch.from_numpy(ques_val)\n",
    "ans_val = torch.from_numpy(ans_val)\n",
    "\n",
    "# print images.size()\n",
    "# print ques_val.size()\n",
    "# print ans_val.size()\n",
    "# print(ans_val.shape)\n"
   ]
  },
  {
   "cell_type": "code",
   "execution_count": 8,
   "metadata": {},
   "outputs": [],
   "source": [
    "# for i in range(ques_val.size(1)):\n",
    "#     print ' '.join(filter(lambda kx: kx!='<pad>',(map(lambda wr: itow[str(wr)], ques_val[i].detach().numpy().tolist()))))\n",
    "#     print ' '.join(map(lambda wr: itoa[str(wr)], ans_val[i].detach().numpy().tolist()))\n"
   ]
  },
  {
   "cell_type": "code",
   "execution_count": 54,
   "metadata": {},
   "outputs": [],
   "source": [
    "ques_ans_val = torch.cat((ques_val, ans_val), dim=1)\n",
    "BATCH_SIZE = 20\n",
    "dataset=Data.TensorDataset(images, ques_ans_val)\n",
    "# img, abc = dataset[0]\n",
    "# print img.shape\n",
    "# plt.figure()\n",
    "# plt.imshow(img.reshape((224,2,3)))\n",
    "\n",
    "train_loader = Data.DataLoader(\n",
    "        dataset=dataset,\n",
    "        batch_size=BATCH_SIZE,\n",
    "        shuffle=True\n",
    "    )\n"
   ]
  },
  {
   "cell_type": "code",
   "execution_count": 19,
   "metadata": {},
   "outputs": [
    {
     "ename": "RuntimeError",
     "evalue": "Error(s) in loading state_dict for Dec:\n\tsize mismatch for embed.weight: copying a param with shape torch.Size([212, 128]) from checkpoint, the shape in current model is torch.Size([122, 128]).\n\tsize mismatch for linear.weight: copying a param with shape torch.Size([39, 128]) from checkpoint, the shape in current model is torch.Size([27, 128]).\n\tsize mismatch for linear.bias: copying a param with shape torch.Size([39]) from checkpoint, the shape in current model is torch.Size([27]).",
     "traceback": [
      "\u001b[0;31m---------------------------------------------------------------------------\u001b[0m",
      "\u001b[0;31mRuntimeError\u001b[0m                              Traceback (most recent call last)",
      "\u001b[0;32m<ipython-input-19-6ff75a415bc4>\u001b[0m in \u001b[0;36m<module>\u001b[0;34m\u001b[0m\n\u001b[1;32m     17\u001b[0m \u001b[0;31m# Load the trained model parameters\u001b[0m\u001b[0;34m\u001b[0m\u001b[0;34m\u001b[0m\u001b[0;34m\u001b[0m\u001b[0m\n\u001b[1;32m     18\u001b[0m \u001b[0mencoder\u001b[0m\u001b[0;34m.\u001b[0m\u001b[0mload_state_dict\u001b[0m\u001b[0;34m(\u001b[0m\u001b[0mtorch\u001b[0m\u001b[0;34m.\u001b[0m\u001b[0mload\u001b[0m\u001b[0;34m(\u001b[0m\u001b[0;34m\"encoder_93.ckpt\"\u001b[0m\u001b[0;34m)\u001b[0m\u001b[0;34m)\u001b[0m\u001b[0;34m\u001b[0m\u001b[0;34m\u001b[0m\u001b[0m\n\u001b[0;32m---> 19\u001b[0;31m \u001b[0mdecoder\u001b[0m\u001b[0;34m.\u001b[0m\u001b[0mload_state_dict\u001b[0m\u001b[0;34m(\u001b[0m\u001b[0mtorch\u001b[0m\u001b[0;34m.\u001b[0m\u001b[0mload\u001b[0m\u001b[0;34m(\u001b[0m\u001b[0;34m\"decoder_93.ckpt\"\u001b[0m\u001b[0;34m)\u001b[0m\u001b[0;34m)\u001b[0m\u001b[0;34m\u001b[0m\u001b[0;34m\u001b[0m\u001b[0m\n\u001b[0m\u001b[1;32m     20\u001b[0m \u001b[0;34m\u001b[0m\u001b[0m\n\u001b[1;32m     21\u001b[0m \u001b[0;34m\u001b[0m\u001b[0m\n",
      "\u001b[0;32m~/Desktop/vqa/venv/lib/python3.6/site-packages/torch/nn/modules/module.py\u001b[0m in \u001b[0;36mload_state_dict\u001b[0;34m(self, state_dict, strict)\u001b[0m\n\u001b[1;32m    767\u001b[0m         \u001b[0;32mif\u001b[0m \u001b[0mlen\u001b[0m\u001b[0;34m(\u001b[0m\u001b[0merror_msgs\u001b[0m\u001b[0;34m)\u001b[0m \u001b[0;34m>\u001b[0m \u001b[0;36m0\u001b[0m\u001b[0;34m:\u001b[0m\u001b[0;34m\u001b[0m\u001b[0;34m\u001b[0m\u001b[0m\n\u001b[1;32m    768\u001b[0m             raise RuntimeError('Error(s) in loading state_dict for {}:\\n\\t{}'.format(\n\u001b[0;32m--> 769\u001b[0;31m                                self.__class__.__name__, \"\\n\\t\".join(error_msgs)))\n\u001b[0m\u001b[1;32m    770\u001b[0m \u001b[0;34m\u001b[0m\u001b[0m\n\u001b[1;32m    771\u001b[0m     \u001b[0;32mdef\u001b[0m \u001b[0m_named_members\u001b[0m\u001b[0;34m(\u001b[0m\u001b[0mself\u001b[0m\u001b[0;34m,\u001b[0m \u001b[0mget_members_fn\u001b[0m\u001b[0;34m,\u001b[0m \u001b[0mprefix\u001b[0m\u001b[0;34m=\u001b[0m\u001b[0;34m''\u001b[0m\u001b[0;34m,\u001b[0m \u001b[0mrecurse\u001b[0m\u001b[0;34m=\u001b[0m\u001b[0;32mTrue\u001b[0m\u001b[0;34m)\u001b[0m\u001b[0;34m:\u001b[0m\u001b[0;34m\u001b[0m\u001b[0;34m\u001b[0m\u001b[0m\n",
      "\u001b[0;31mRuntimeError\u001b[0m: Error(s) in loading state_dict for Dec:\n\tsize mismatch for embed.weight: copying a param with shape torch.Size([212, 128]) from checkpoint, the shape in current model is torch.Size([122, 128]).\n\tsize mismatch for linear.weight: copying a param with shape torch.Size([39, 128]) from checkpoint, the shape in current model is torch.Size([27, 128]).\n\tsize mismatch for linear.bias: copying a param with shape torch.Size([39]) from checkpoint, the shape in current model is torch.Size([27])."
     ],
     "output_type": "error"
    }
   ],
   "source": [
    "from naive import Enc, Dec\n",
    "device = torch.device('cuda')\n",
    "embed_size = 128\n",
    "hidden_size = 128\n",
    "ques_vocab_size = len(itow)\n",
    "ans_vocab_size = len(itoa)+1\n",
    "num_layers = 1\n",
    "\n",
    "\n",
    "\n",
    "# Build models\n",
    "encoder = Enc(embed_size).eval()  # eval mode (batchnorm uses moving mean/variance)\n",
    "decoder = Dec(embed_size, hidden_size, ques_vocab_size, ans_vocab_size, num_layers)\n",
    "encoder = encoder.to(device)\n",
    "decoder = decoder.to(device)\n",
    "\n",
    "# Load the trained model parameters\n",
    "encoder.load_state_dict(torch.load(\"encoder_93.ckpt\"))\n",
    "decoder.load_state_dict(torch.load(\"decoder_93.ckpt\"))\n",
    "\n",
    "\n"
   ]
  },
  {
   "cell_type": "code",
   "execution_count": 46,
   "metadata": {},
   "outputs": [
    {
     "data": {
      "image/png": "[encoded data removed]",
      "text/plain": [
       "<Figure size 432x288 with 1 Axes>"
      ]
     },
     "metadata": {
      "needs_background": "light"
     },
     "output_type": "display_data"
    },
    {
     "data": {
      "image/png": "[encoded data removed]",
      "text/plain": [
       "<Figure size 432x288 with 1 Axes>"
      ]
     },
     "metadata": {
      "needs_background": "light"
     },
     "output_type": "display_data"
    }
   ],
   "source": [
    "plt.figure()\n",
    "plt.plot(range(len(lossList)), lossList, 'ro')\n",
    "plt.show()\n",
    "\n",
    "plt.figure()\n",
    "plt.plot(range(len(accList)), accList, 'ro')\n",
    "plt.show()"
   ]
  },
  {
   "cell_type": "code",
   "execution_count": null,
   "metadata": {},
   "outputs": [],
   "source": []
  }
 ],
 "metadata": {
  "kernelspec": {
   "display_name": "Python 3",
   "language": "python",
   "name": "python3"
  },
  "language_info": {
   "codemirror_mode": {
    "name": "ipython",
    "version": 3
   },
   "file_extension": ".py",
   "mimetype": "text/x-python",
   "name": "python",
   "nbconvert_exporter": "python",
   "pygments_lexer": "ipython3",
   "version": "3.6.7"
  }
 },
 "nbformat": 4,
 "nbformat_minor": 2
}
